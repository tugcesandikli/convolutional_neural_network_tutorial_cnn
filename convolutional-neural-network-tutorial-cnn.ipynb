{
 "cells": [
  {
   "cell_type": "markdown",
   "id": "efc11961",
   "metadata": {
    "papermill": {
     "duration": 0.012058,
     "end_time": "2024-07-26T20:05:08.914620",
     "exception": false,
     "start_time": "2024-07-26T20:05:08.902562",
     "status": "completed"
    },
    "tags": []
   },
   "source": [
    "# Convolutional Neural Networks (CNN)\n",
    "<font color='pink'>\n",
    "<br>Content: \n",
    "* [Loading the Data Set](#1)\n",
    "* [Normalization, Reshape and Label Encoding ](#2)\n",
    "* [Train Test Split](#3)\n",
    "* [Convolutional Neural Network](#4)\n",
    "    * [What is Convolution Operation?](#5)\n",
    "    * [Same Padding](#6)\n",
    "    * [Max Pooling](#7)\n",
    "    * [Flattening](#8)\n",
    "    * [Full Connection](#9)\n",
    "* [Implementing with Keras](#10)\n",
    "    * [Create Model](#11)\n",
    "    * [Define Optimizer](#12)\n",
    "    * [Compile Model](#13)\n",
    "    * [Epochs and Batch Size](#14)\n",
    "    * [Data Augmentation](#15)\n",
    "    * [Fit the Model](#16)\n",
    "    * [Evaluate the Model](#17)\n",
    "* [Conclusion](#18)\n"
   ]
  },
  {
   "cell_type": "code",
   "execution_count": 1,
   "id": "c3c418dd",
   "metadata": {
    "_cell_guid": "b1076dfc-b9ad-4769-8c92-a6c4dae69d19",
    "_uuid": "8f2839f25d086af736a60e9eeb907d3b93b6e0e5",
    "execution": {
     "iopub.execute_input": "2024-07-26T20:05:08.941360Z",
     "iopub.status.busy": "2024-07-26T20:05:08.940901Z",
     "iopub.status.idle": "2024-07-26T20:05:11.554088Z",
     "shell.execute_reply": "2024-07-26T20:05:11.552634Z"
    },
    "papermill": {
     "duration": 2.629933,
     "end_time": "2024-07-26T20:05:11.557040",
     "exception": false,
     "start_time": "2024-07-26T20:05:08.927107",
     "status": "completed"
    },
    "tags": []
   },
   "outputs": [
    {
     "name": "stdout",
     "output_type": "stream",
     "text": [
      "['sample_submission.csv', 'train.csv', 'test.csv']\n"
     ]
    }
   ],
   "source": [
    "# This Python 3 environment comes with many helpful analytics libraries installed\n",
    "# It is defined by the kaggle/python docker image: https://github.com/kaggle/docker-python\n",
    "# For example, here's several helpful packages to load in \n",
    "\n",
    "import numpy as np # linear algebra\n",
    "import pandas as pd # data processing, CSV file I/O (e.g. pd.read_csv)\n",
    "import seaborn as sns\n",
    "import matplotlib.pyplot as plt\n",
    "# import warnings\n",
    "import warnings\n",
    "# filter warnings\n",
    "warnings.filterwarnings('ignore')\n",
    "\n",
    "# Input data files are available in the \"../input/\" directory.\n",
    "# For example, running this (by clicking run or pressing Shift+Enter) will list the files in the input directory\n",
    "\n",
    "import os\n",
    "print(os.listdir(\"/kaggle/input/digit-recognizer\"))\n",
    "\n",
    "# Any results you write to the current directory are saved as output."
   ]
  },
  {
   "cell_type": "markdown",
   "id": "89bbb4c5",
   "metadata": {
    "papermill": {
     "duration": 0.011317,
     "end_time": "2024-07-26T20:05:11.580135",
     "exception": false,
     "start_time": "2024-07-26T20:05:11.568818",
     "status": "completed"
    },
    "tags": []
   },
   "source": [
    "<a id=\"1\"></a>\n",
    "## Loading the Data Set\n",
    "* In this part we load and visualize the data."
   ]
  },
  {
   "cell_type": "code",
   "execution_count": 2,
   "id": "f1f7a0c5",
   "metadata": {
    "execution": {
     "iopub.execute_input": "2024-07-26T20:05:11.605948Z",
     "iopub.status.busy": "2024-07-26T20:05:11.605402Z",
     "iopub.status.idle": "2024-07-26T20:05:15.896291Z",
     "shell.execute_reply": "2024-07-26T20:05:15.894920Z"
    },
    "papermill": {
     "duration": 4.307305,
     "end_time": "2024-07-26T20:05:15.899287",
     "exception": false,
     "start_time": "2024-07-26T20:05:11.591982",
     "status": "completed"
    },
    "tags": []
   },
   "outputs": [
    {
     "name": "stdout",
     "output_type": "stream",
     "text": [
      "(42000, 785)\n"
     ]
    },
    {
     "data": {
      "text/html": [
       "<div>\n",
       "<style scoped>\n",
       "    .dataframe tbody tr th:only-of-type {\n",
       "        vertical-align: middle;\n",
       "    }\n",
       "\n",
       "    .dataframe tbody tr th {\n",
       "        vertical-align: top;\n",
       "    }\n",
       "\n",
       "    .dataframe thead th {\n",
       "        text-align: right;\n",
       "    }\n",
       "</style>\n",
       "<table border=\"1\" class=\"dataframe\">\n",
       "  <thead>\n",
       "    <tr style=\"text-align: right;\">\n",
       "      <th></th>\n",
       "      <th>label</th>\n",
       "      <th>pixel0</th>\n",
       "      <th>pixel1</th>\n",
       "      <th>pixel2</th>\n",
       "      <th>pixel3</th>\n",
       "      <th>pixel4</th>\n",
       "      <th>pixel5</th>\n",
       "      <th>pixel6</th>\n",
       "      <th>pixel7</th>\n",
       "      <th>pixel8</th>\n",
       "      <th>...</th>\n",
       "      <th>pixel774</th>\n",
       "      <th>pixel775</th>\n",
       "      <th>pixel776</th>\n",
       "      <th>pixel777</th>\n",
       "      <th>pixel778</th>\n",
       "      <th>pixel779</th>\n",
       "      <th>pixel780</th>\n",
       "      <th>pixel781</th>\n",
       "      <th>pixel782</th>\n",
       "      <th>pixel783</th>\n",
       "    </tr>\n",
       "  </thead>\n",
       "  <tbody>\n",
       "    <tr>\n",
       "      <th>0</th>\n",
       "      <td>1</td>\n",
       "      <td>0</td>\n",
       "      <td>0</td>\n",
       "      <td>0</td>\n",
       "      <td>0</td>\n",
       "      <td>0</td>\n",
       "      <td>0</td>\n",
       "      <td>0</td>\n",
       "      <td>0</td>\n",
       "      <td>0</td>\n",
       "      <td>...</td>\n",
       "      <td>0</td>\n",
       "      <td>0</td>\n",
       "      <td>0</td>\n",
       "      <td>0</td>\n",
       "      <td>0</td>\n",
       "      <td>0</td>\n",
       "      <td>0</td>\n",
       "      <td>0</td>\n",
       "      <td>0</td>\n",
       "      <td>0</td>\n",
       "    </tr>\n",
       "    <tr>\n",
       "      <th>1</th>\n",
       "      <td>0</td>\n",
       "      <td>0</td>\n",
       "      <td>0</td>\n",
       "      <td>0</td>\n",
       "      <td>0</td>\n",
       "      <td>0</td>\n",
       "      <td>0</td>\n",
       "      <td>0</td>\n",
       "      <td>0</td>\n",
       "      <td>0</td>\n",
       "      <td>...</td>\n",
       "      <td>0</td>\n",
       "      <td>0</td>\n",
       "      <td>0</td>\n",
       "      <td>0</td>\n",
       "      <td>0</td>\n",
       "      <td>0</td>\n",
       "      <td>0</td>\n",
       "      <td>0</td>\n",
       "      <td>0</td>\n",
       "      <td>0</td>\n",
       "    </tr>\n",
       "    <tr>\n",
       "      <th>2</th>\n",
       "      <td>1</td>\n",
       "      <td>0</td>\n",
       "      <td>0</td>\n",
       "      <td>0</td>\n",
       "      <td>0</td>\n",
       "      <td>0</td>\n",
       "      <td>0</td>\n",
       "      <td>0</td>\n",
       "      <td>0</td>\n",
       "      <td>0</td>\n",
       "      <td>...</td>\n",
       "      <td>0</td>\n",
       "      <td>0</td>\n",
       "      <td>0</td>\n",
       "      <td>0</td>\n",
       "      <td>0</td>\n",
       "      <td>0</td>\n",
       "      <td>0</td>\n",
       "      <td>0</td>\n",
       "      <td>0</td>\n",
       "      <td>0</td>\n",
       "    </tr>\n",
       "    <tr>\n",
       "      <th>3</th>\n",
       "      <td>4</td>\n",
       "      <td>0</td>\n",
       "      <td>0</td>\n",
       "      <td>0</td>\n",
       "      <td>0</td>\n",
       "      <td>0</td>\n",
       "      <td>0</td>\n",
       "      <td>0</td>\n",
       "      <td>0</td>\n",
       "      <td>0</td>\n",
       "      <td>...</td>\n",
       "      <td>0</td>\n",
       "      <td>0</td>\n",
       "      <td>0</td>\n",
       "      <td>0</td>\n",
       "      <td>0</td>\n",
       "      <td>0</td>\n",
       "      <td>0</td>\n",
       "      <td>0</td>\n",
       "      <td>0</td>\n",
       "      <td>0</td>\n",
       "    </tr>\n",
       "    <tr>\n",
       "      <th>4</th>\n",
       "      <td>0</td>\n",
       "      <td>0</td>\n",
       "      <td>0</td>\n",
       "      <td>0</td>\n",
       "      <td>0</td>\n",
       "      <td>0</td>\n",
       "      <td>0</td>\n",
       "      <td>0</td>\n",
       "      <td>0</td>\n",
       "      <td>0</td>\n",
       "      <td>...</td>\n",
       "      <td>0</td>\n",
       "      <td>0</td>\n",
       "      <td>0</td>\n",
       "      <td>0</td>\n",
       "      <td>0</td>\n",
       "      <td>0</td>\n",
       "      <td>0</td>\n",
       "      <td>0</td>\n",
       "      <td>0</td>\n",
       "      <td>0</td>\n",
       "    </tr>\n",
       "  </tbody>\n",
       "</table>\n",
       "<p>5 rows × 785 columns</p>\n",
       "</div>"
      ],
      "text/plain": [
       "   label  pixel0  pixel1  pixel2  pixel3  pixel4  pixel5  pixel6  pixel7  \\\n",
       "0      1       0       0       0       0       0       0       0       0   \n",
       "1      0       0       0       0       0       0       0       0       0   \n",
       "2      1       0       0       0       0       0       0       0       0   \n",
       "3      4       0       0       0       0       0       0       0       0   \n",
       "4      0       0       0       0       0       0       0       0       0   \n",
       "\n",
       "   pixel8  ...  pixel774  pixel775  pixel776  pixel777  pixel778  pixel779  \\\n",
       "0       0  ...         0         0         0         0         0         0   \n",
       "1       0  ...         0         0         0         0         0         0   \n",
       "2       0  ...         0         0         0         0         0         0   \n",
       "3       0  ...         0         0         0         0         0         0   \n",
       "4       0  ...         0         0         0         0         0         0   \n",
       "\n",
       "   pixel780  pixel781  pixel782  pixel783  \n",
       "0         0         0         0         0  \n",
       "1         0         0         0         0  \n",
       "2         0         0         0         0  \n",
       "3         0         0         0         0  \n",
       "4         0         0         0         0  \n",
       "\n",
       "[5 rows x 785 columns]"
      ]
     },
     "execution_count": 2,
     "metadata": {},
     "output_type": "execute_result"
    }
   ],
   "source": [
    "# read train \n",
    "train = pd.read_csv(\"/kaggle/input/digit-recognizer/train.csv\")\n",
    "print(train.shape)\n",
    "train.head()"
   ]
  },
  {
   "cell_type": "code",
   "execution_count": 3,
   "id": "34721ff8",
   "metadata": {
    "execution": {
     "iopub.execute_input": "2024-07-26T20:05:15.926084Z",
     "iopub.status.busy": "2024-07-26T20:05:15.925616Z",
     "iopub.status.idle": "2024-07-26T20:05:18.368023Z",
     "shell.execute_reply": "2024-07-26T20:05:18.366605Z"
    },
    "papermill": {
     "duration": 2.459248,
     "end_time": "2024-07-26T20:05:18.370818",
     "exception": false,
     "start_time": "2024-07-26T20:05:15.911570",
     "status": "completed"
    },
    "tags": []
   },
   "outputs": [
    {
     "name": "stdout",
     "output_type": "stream",
     "text": [
      "(28000, 784)\n"
     ]
    },
    {
     "data": {
      "text/html": [
       "<div>\n",
       "<style scoped>\n",
       "    .dataframe tbody tr th:only-of-type {\n",
       "        vertical-align: middle;\n",
       "    }\n",
       "\n",
       "    .dataframe tbody tr th {\n",
       "        vertical-align: top;\n",
       "    }\n",
       "\n",
       "    .dataframe thead th {\n",
       "        text-align: right;\n",
       "    }\n",
       "</style>\n",
       "<table border=\"1\" class=\"dataframe\">\n",
       "  <thead>\n",
       "    <tr style=\"text-align: right;\">\n",
       "      <th></th>\n",
       "      <th>pixel0</th>\n",
       "      <th>pixel1</th>\n",
       "      <th>pixel2</th>\n",
       "      <th>pixel3</th>\n",
       "      <th>pixel4</th>\n",
       "      <th>pixel5</th>\n",
       "      <th>pixel6</th>\n",
       "      <th>pixel7</th>\n",
       "      <th>pixel8</th>\n",
       "      <th>pixel9</th>\n",
       "      <th>...</th>\n",
       "      <th>pixel774</th>\n",
       "      <th>pixel775</th>\n",
       "      <th>pixel776</th>\n",
       "      <th>pixel777</th>\n",
       "      <th>pixel778</th>\n",
       "      <th>pixel779</th>\n",
       "      <th>pixel780</th>\n",
       "      <th>pixel781</th>\n",
       "      <th>pixel782</th>\n",
       "      <th>pixel783</th>\n",
       "    </tr>\n",
       "  </thead>\n",
       "  <tbody>\n",
       "    <tr>\n",
       "      <th>0</th>\n",
       "      <td>0</td>\n",
       "      <td>0</td>\n",
       "      <td>0</td>\n",
       "      <td>0</td>\n",
       "      <td>0</td>\n",
       "      <td>0</td>\n",
       "      <td>0</td>\n",
       "      <td>0</td>\n",
       "      <td>0</td>\n",
       "      <td>0</td>\n",
       "      <td>...</td>\n",
       "      <td>0</td>\n",
       "      <td>0</td>\n",
       "      <td>0</td>\n",
       "      <td>0</td>\n",
       "      <td>0</td>\n",
       "      <td>0</td>\n",
       "      <td>0</td>\n",
       "      <td>0</td>\n",
       "      <td>0</td>\n",
       "      <td>0</td>\n",
       "    </tr>\n",
       "    <tr>\n",
       "      <th>1</th>\n",
       "      <td>0</td>\n",
       "      <td>0</td>\n",
       "      <td>0</td>\n",
       "      <td>0</td>\n",
       "      <td>0</td>\n",
       "      <td>0</td>\n",
       "      <td>0</td>\n",
       "      <td>0</td>\n",
       "      <td>0</td>\n",
       "      <td>0</td>\n",
       "      <td>...</td>\n",
       "      <td>0</td>\n",
       "      <td>0</td>\n",
       "      <td>0</td>\n",
       "      <td>0</td>\n",
       "      <td>0</td>\n",
       "      <td>0</td>\n",
       "      <td>0</td>\n",
       "      <td>0</td>\n",
       "      <td>0</td>\n",
       "      <td>0</td>\n",
       "    </tr>\n",
       "    <tr>\n",
       "      <th>2</th>\n",
       "      <td>0</td>\n",
       "      <td>0</td>\n",
       "      <td>0</td>\n",
       "      <td>0</td>\n",
       "      <td>0</td>\n",
       "      <td>0</td>\n",
       "      <td>0</td>\n",
       "      <td>0</td>\n",
       "      <td>0</td>\n",
       "      <td>0</td>\n",
       "      <td>...</td>\n",
       "      <td>0</td>\n",
       "      <td>0</td>\n",
       "      <td>0</td>\n",
       "      <td>0</td>\n",
       "      <td>0</td>\n",
       "      <td>0</td>\n",
       "      <td>0</td>\n",
       "      <td>0</td>\n",
       "      <td>0</td>\n",
       "      <td>0</td>\n",
       "    </tr>\n",
       "    <tr>\n",
       "      <th>3</th>\n",
       "      <td>0</td>\n",
       "      <td>0</td>\n",
       "      <td>0</td>\n",
       "      <td>0</td>\n",
       "      <td>0</td>\n",
       "      <td>0</td>\n",
       "      <td>0</td>\n",
       "      <td>0</td>\n",
       "      <td>0</td>\n",
       "      <td>0</td>\n",
       "      <td>...</td>\n",
       "      <td>0</td>\n",
       "      <td>0</td>\n",
       "      <td>0</td>\n",
       "      <td>0</td>\n",
       "      <td>0</td>\n",
       "      <td>0</td>\n",
       "      <td>0</td>\n",
       "      <td>0</td>\n",
       "      <td>0</td>\n",
       "      <td>0</td>\n",
       "    </tr>\n",
       "    <tr>\n",
       "      <th>4</th>\n",
       "      <td>0</td>\n",
       "      <td>0</td>\n",
       "      <td>0</td>\n",
       "      <td>0</td>\n",
       "      <td>0</td>\n",
       "      <td>0</td>\n",
       "      <td>0</td>\n",
       "      <td>0</td>\n",
       "      <td>0</td>\n",
       "      <td>0</td>\n",
       "      <td>...</td>\n",
       "      <td>0</td>\n",
       "      <td>0</td>\n",
       "      <td>0</td>\n",
       "      <td>0</td>\n",
       "      <td>0</td>\n",
       "      <td>0</td>\n",
       "      <td>0</td>\n",
       "      <td>0</td>\n",
       "      <td>0</td>\n",
       "      <td>0</td>\n",
       "    </tr>\n",
       "  </tbody>\n",
       "</table>\n",
       "<p>5 rows × 784 columns</p>\n",
       "</div>"
      ],
      "text/plain": [
       "   pixel0  pixel1  pixel2  pixel3  pixel4  pixel5  pixel6  pixel7  pixel8  \\\n",
       "0       0       0       0       0       0       0       0       0       0   \n",
       "1       0       0       0       0       0       0       0       0       0   \n",
       "2       0       0       0       0       0       0       0       0       0   \n",
       "3       0       0       0       0       0       0       0       0       0   \n",
       "4       0       0       0       0       0       0       0       0       0   \n",
       "\n",
       "   pixel9  ...  pixel774  pixel775  pixel776  pixel777  pixel778  pixel779  \\\n",
       "0       0  ...         0         0         0         0         0         0   \n",
       "1       0  ...         0         0         0         0         0         0   \n",
       "2       0  ...         0         0         0         0         0         0   \n",
       "3       0  ...         0         0         0         0         0         0   \n",
       "4       0  ...         0         0         0         0         0         0   \n",
       "\n",
       "   pixel780  pixel781  pixel782  pixel783  \n",
       "0         0         0         0         0  \n",
       "1         0         0         0         0  \n",
       "2         0         0         0         0  \n",
       "3         0         0         0         0  \n",
       "4         0         0         0         0  \n",
       "\n",
       "[5 rows x 784 columns]"
      ]
     },
     "execution_count": 3,
     "metadata": {},
     "output_type": "execute_result"
    }
   ],
   "source": [
    "# read test \n",
    "test = pd.read_csv(\"/kaggle/input/digit-recognizer/test.csv\")\n",
    "print(test.shape)\n",
    "test.head()"
   ]
  },
  {
   "cell_type": "code",
   "execution_count": 4,
   "id": "98daa225",
   "metadata": {
    "execution": {
     "iopub.execute_input": "2024-07-26T20:05:18.397871Z",
     "iopub.status.busy": "2024-07-26T20:05:18.397434Z",
     "iopub.status.idle": "2024-07-26T20:05:18.514033Z",
     "shell.execute_reply": "2024-07-26T20:05:18.512273Z"
    },
    "papermill": {
     "duration": 0.133495,
     "end_time": "2024-07-26T20:05:18.517015",
     "exception": false,
     "start_time": "2024-07-26T20:05:18.383520",
     "status": "completed"
    },
    "tags": []
   },
   "outputs": [],
   "source": [
    "# put labels into y_train variable\n",
    "Y_train = train[\"label\"]\n",
    "# Drop 'label' column\n",
    "X_train = train.drop(labels = [\"label\"],axis = 1) "
   ]
  },
  {
   "cell_type": "code",
   "execution_count": 5,
   "id": "23ab86b4",
   "metadata": {
    "execution": {
     "iopub.execute_input": "2024-07-26T20:05:18.545831Z",
     "iopub.status.busy": "2024-07-26T20:05:18.545407Z",
     "iopub.status.idle": "2024-07-26T20:05:18.551910Z",
     "shell.execute_reply": "2024-07-26T20:05:18.550538Z"
    },
    "papermill": {
     "duration": 0.024245,
     "end_time": "2024-07-26T20:05:18.554865",
     "exception": false,
     "start_time": "2024-07-26T20:05:18.530620",
     "status": "completed"
    },
    "tags": []
   },
   "outputs": [
    {
     "name": "stdout",
     "output_type": "stream",
     "text": [
      "<class 'pandas.core.series.Series'>\n"
     ]
    }
   ],
   "source": [
    "# Y_train'in doğru veri tipine sahip olduğunu kontrol et\n",
    "print(type(Y_train))"
   ]
  },
  {
   "cell_type": "code",
   "execution_count": 6,
   "id": "f2303a10",
   "metadata": {
    "execution": {
     "iopub.execute_input": "2024-07-26T20:05:18.583797Z",
     "iopub.status.busy": "2024-07-26T20:05:18.583399Z",
     "iopub.status.idle": "2024-07-26T20:05:19.105687Z",
     "shell.execute_reply": "2024-07-26T20:05:19.104427Z"
    },
    "papermill": {
     "duration": 0.539424,
     "end_time": "2024-07-26T20:05:19.108465",
     "exception": false,
     "start_time": "2024-07-26T20:05:18.569041",
     "status": "completed"
    },
    "tags": []
   },
   "outputs": [
    {
     "data": {
      "text/plain": [
       "label\n",
       "1    4684\n",
       "7    4401\n",
       "3    4351\n",
       "9    4188\n",
       "2    4177\n",
       "6    4137\n",
       "0    4132\n",
       "4    4072\n",
       "8    4063\n",
       "5    3795\n",
       "Name: count, dtype: int64"
      ]
     },
     "execution_count": 6,
     "metadata": {},
     "output_type": "execute_result"
    },
    {
     "data": {
      "image/png": "[encoded data removed]",
      "text/plain": [
       "<Figure size 1500x700 with 1 Axes>"
      ]
     },
     "metadata": {},
     "output_type": "display_data"
    }
   ],
   "source": [
    "# visualize number of digits classes\n",
    "plt.figure(figsize=(15,7))\n",
    "g = sns.countplot(x = Y_train, palette=\"icefire\")\n",
    "plt.title(\"Number of digit classes\")\n",
    "Y_train.value_counts()"
   ]
  },
  {
   "cell_type": "code",
   "execution_count": 7,
   "id": "52ce1a45",
   "metadata": {
    "execution": {
     "iopub.execute_input": "2024-07-26T20:05:19.137707Z",
     "iopub.status.busy": "2024-07-26T20:05:19.137266Z",
     "iopub.status.idle": "2024-07-26T20:05:19.320166Z",
     "shell.execute_reply": "2024-07-26T20:05:19.318997Z"
    },
    "papermill": {
     "duration": 0.201016,
     "end_time": "2024-07-26T20:05:19.323027",
     "exception": false,
     "start_time": "2024-07-26T20:05:19.122011",
     "status": "completed"
    },
    "tags": []
   },
   "outputs": [
    {
     "data": {
      "image/png": "[encoded data removed]",
      "text/plain": [
       "<Figure size 640x480 with 1 Axes>"
      ]
     },
     "metadata": {},
     "output_type": "display_data"
    }
   ],
   "source": [
    "# plot some samples\n",
    "img = X_train.iloc[0].to_numpy()\n",
    "img = img.reshape((28,28))\n",
    "plt.imshow(img,cmap='gray')\n",
    "plt.title(train.iloc[0,0])\n",
    "plt.axis(\"off\")\n",
    "plt.show()"
   ]
  },
  {
   "cell_type": "code",
   "execution_count": 8,
   "id": "e4fa2f64",
   "metadata": {
    "execution": {
     "iopub.execute_input": "2024-07-26T20:05:19.352478Z",
     "iopub.status.busy": "2024-07-26T20:05:19.352067Z",
     "iopub.status.idle": "2024-07-26T20:05:19.531154Z",
     "shell.execute_reply": "2024-07-26T20:05:19.529777Z"
    },
    "papermill": {
     "duration": 0.19695,
     "end_time": "2024-07-26T20:05:19.534011",
     "exception": false,
     "start_time": "2024-07-26T20:05:19.337061",
     "status": "completed"
    },
    "tags": []
   },
   "outputs": [
    {
     "data": {
      "image/png": "[encoded data removed]",
      "text/plain": [
       "<Figure size 640x480 with 1 Axes>"
      ]
     },
     "metadata": {},
     "output_type": "display_data"
    }
   ],
   "source": [
    "# plot some samples\n",
    "img = X_train.iloc[3].to_numpy()\n",
    "img = img.reshape((28,28))\n",
    "plt.imshow(img,cmap='gray')\n",
    "plt.title(train.iloc[3,0])\n",
    "plt.axis('off')\n",
    "plt.show()"
   ]
  },
  {
   "cell_type": "markdown",
   "id": "30aa6118",
   "metadata": {
    "papermill": {
     "duration": 0.013272,
     "end_time": "2024-07-26T20:05:19.561088",
     "exception": false,
     "start_time": "2024-07-26T20:05:19.547816",
     "status": "completed"
    },
    "tags": []
   },
   "source": [
    "<a id=\"2\"></a>\n",
    "## Normalization, Reshape and Label Encoding \n",
    "* Normalization\n",
    "    * We perform a grayscale normalization to reduce the effect of illumination's differences.\n",
    "    * If we perform normalization, CNN works faster.\n",
    "* Reshape\n",
    "    * Train and test images (28 x 28) \n",
    "    * We reshape all data to 28x28x1 3D matrices.\n",
    "    * Keras needs an extra dimension in the end which correspond to channels. Our images are gray scaled so it use only one channel. \n",
    "* Label Encoding  \n",
    "    * Encode labels to one hot vectors \n",
    "        * 2 => [0,0,1,0,0,0,0,0,0,0]\n",
    "        * 4 => [0,0,0,0,1,0,0,0,0,0]"
   ]
  },
  {
   "cell_type": "code",
   "execution_count": 9,
   "id": "b62db518",
   "metadata": {
    "execution": {
     "iopub.execute_input": "2024-07-26T20:05:19.590605Z",
     "iopub.status.busy": "2024-07-26T20:05:19.590196Z",
     "iopub.status.idle": "2024-07-26T20:05:19.710247Z",
     "shell.execute_reply": "2024-07-26T20:05:19.708923Z"
    },
    "papermill": {
     "duration": 0.138123,
     "end_time": "2024-07-26T20:05:19.713207",
     "exception": false,
     "start_time": "2024-07-26T20:05:19.575084",
     "status": "completed"
    },
    "tags": []
   },
   "outputs": [
    {
     "name": "stdout",
     "output_type": "stream",
     "text": [
      "x_train shape:  (42000, 784)\n",
      "test shape:  (28000, 784)\n"
     ]
    }
   ],
   "source": [
    "# Normalize the data\n",
    "X_train = X_train / 255.0\n",
    "test = test / 255.0\n",
    "print(\"x_train shape: \",X_train.shape)\n",
    "print(\"test shape: \",test.shape)"
   ]
  },
  {
   "cell_type": "code",
   "execution_count": 10,
   "id": "879961a6",
   "metadata": {
    "execution": {
     "iopub.execute_input": "2024-07-26T20:05:19.744410Z",
     "iopub.status.busy": "2024-07-26T20:05:19.743206Z",
     "iopub.status.idle": "2024-07-26T20:05:19.751168Z",
     "shell.execute_reply": "2024-07-26T20:05:19.749812Z"
    },
    "papermill": {
     "duration": 0.026078,
     "end_time": "2024-07-26T20:05:19.753622",
     "exception": false,
     "start_time": "2024-07-26T20:05:19.727544",
     "status": "completed"
    },
    "tags": []
   },
   "outputs": [
    {
     "name": "stdout",
     "output_type": "stream",
     "text": [
      "x train shape: (42000, 28, 28, 1)\n",
      "test shape: (28000, 28, 28, 1)\n"
     ]
    }
   ],
   "source": [
    "# Reshape\n",
    "X_train = X_train.values.reshape(-1,28,28,1)\n",
    "test = test.values.reshape(-1,28,28,1)\n",
    "print(\"x train shape:\",X_train.shape)\n",
    "print(\"test shape:\",test.shape)"
   ]
  },
  {
   "cell_type": "code",
   "execution_count": 11,
   "id": "0dee5b61",
   "metadata": {
    "execution": {
     "iopub.execute_input": "2024-07-26T20:05:19.784589Z",
     "iopub.status.busy": "2024-07-26T20:05:19.783478Z",
     "iopub.status.idle": "2024-07-26T20:05:34.939823Z",
     "shell.execute_reply": "2024-07-26T20:05:34.937997Z"
    },
    "papermill": {
     "duration": 15.176374,
     "end_time": "2024-07-26T20:05:34.943925",
     "exception": false,
     "start_time": "2024-07-26T20:05:19.767551",
     "status": "completed"
    },
    "tags": []
   },
   "outputs": [
    {
     "name": "stderr",
     "output_type": "stream",
     "text": [
      "2024-07-26 20:05:22.157722: E external/local_xla/xla/stream_executor/cuda/cuda_dnn.cc:9261] Unable to register cuDNN factory: Attempting to register factory for plugin cuDNN when one has already been registered\n",
      "2024-07-26 20:05:22.157900: E external/local_xla/xla/stream_executor/cuda/cuda_fft.cc:607] Unable to register cuFFT factory: Attempting to register factory for plugin cuFFT when one has already been registered\n",
      "2024-07-26 20:05:22.344362: E external/local_xla/xla/stream_executor/cuda/cuda_blas.cc:1515] Unable to register cuBLAS factory: Attempting to register factory for plugin cuBLAS when one has already been registered\n"
     ]
    }
   ],
   "source": [
    "# Label Encoding \n",
    "from tensorflow.keras.utils import to_categorical # convert to one-hot-encoding\n",
    "Y_train = to_categorical(Y_train, num_classes = 10)"
   ]
  },
  {
   "cell_type": "markdown",
   "id": "82d44bdb",
   "metadata": {
    "papermill": {
     "duration": 0.013622,
     "end_time": "2024-07-26T20:05:34.975010",
     "exception": false,
     "start_time": "2024-07-26T20:05:34.961388",
     "status": "completed"
    },
    "tags": []
   },
   "source": [
    "<a id=\"3\"></a>\n",
    "## Train Test Split\n",
    "* We split the data into train and test sets.\n",
    "* test size is 10%.\n",
    "* train size is 90%."
   ]
  },
  {
   "cell_type": "code",
   "execution_count": 12,
   "id": "baaf5d0f",
   "metadata": {
    "execution": {
     "iopub.execute_input": "2024-07-26T20:05:35.005533Z",
     "iopub.status.busy": "2024-07-26T20:05:35.004725Z",
     "iopub.status.idle": "2024-07-26T20:05:35.755980Z",
     "shell.execute_reply": "2024-07-26T20:05:35.754328Z"
    },
    "papermill": {
     "duration": 0.769589,
     "end_time": "2024-07-26T20:05:35.758885",
     "exception": false,
     "start_time": "2024-07-26T20:05:34.989296",
     "status": "completed"
    },
    "tags": []
   },
   "outputs": [
    {
     "name": "stdout",
     "output_type": "stream",
     "text": [
      "x_train shape: (37800, 28, 28, 1)\n",
      "x_test shape: (4200, 28, 28, 1)\n",
      "y_train shape: (37800, 10)\n",
      "y_test shape: (4200, 10)\n"
     ]
    }
   ],
   "source": [
    "# Split the train and the validation set for the fitting\n",
    "from sklearn.model_selection import train_test_split\n",
    "X_train, X_val, Y_train, Y_val = train_test_split(X_train, Y_train, test_size=0.1, random_state=2)\n",
    "print(\"x_train shape:\", X_train.shape)\n",
    "print(\"x_test shape:\", X_val.shape)\n",
    "print(\"y_train shape:\", Y_train.shape)\n",
    "print(\"y_test shape:\", Y_val.shape)"
   ]
  },
  {
   "cell_type": "code",
   "execution_count": 13,
   "id": "72f88d6a",
   "metadata": {
    "execution": {
     "iopub.execute_input": "2024-07-26T20:05:35.790071Z",
     "iopub.status.busy": "2024-07-26T20:05:35.789634Z",
     "iopub.status.idle": "2024-07-26T20:05:36.070666Z",
     "shell.execute_reply": "2024-07-26T20:05:36.069514Z"
    },
    "papermill": {
     "duration": 0.299467,
     "end_time": "2024-07-26T20:05:36.073175",
     "exception": false,
     "start_time": "2024-07-26T20:05:35.773708",
     "status": "completed"
    },
    "tags": []
   },
   "outputs": [
    {
     "data": {
      "image/png": "[encoded data removed]",
      "text/plain": [
       "<Figure size 640x480 with 1 Axes>"
      ]
     },
     "metadata": {},
     "output_type": "display_data"
    }
   ],
   "source": [
    "# Some examples\n",
    "plt.imshow(X_train[2][:,:,0],cmap='gray')\n",
    "plt.show()"
   ]
  },
  {
   "cell_type": "markdown",
   "id": "72c73f3a",
   "metadata": {
    "papermill": {
     "duration": 0.014042,
     "end_time": "2024-07-26T20:05:36.101738",
     "exception": false,
     "start_time": "2024-07-26T20:05:36.087696",
     "status": "completed"
    },
    "tags": []
   },
   "source": [
    "<a id=\"4\"></a>\n",
    "## Convolutional Neural Network \n",
    "* CNN is used for image classification, object detection \n",
    "* <a href=\"https://ibb.co/kV1j9p\"><img src=\"https://preview.ibb.co/nRkBpp/gec2.jpg\" alt=\"gec2\" border=\"0\"></a>"
   ]
  },
  {
   "cell_type": "markdown",
   "id": "d1644306",
   "metadata": {
    "papermill": {
     "duration": 0.013902,
     "end_time": "2024-07-26T20:05:36.129977",
     "exception": false,
     "start_time": "2024-07-26T20:05:36.116075",
     "status": "completed"
    },
    "tags": []
   },
   "source": [
    "<a id=\"5\"></a>\n",
    "### What is Convolution Operation?\n",
    "* We have some image and feature detector(3*3)\n",
    "* Feature detector does not need to be 3 by 3 matrix. It can be 5 by 5 or 7 by 7.\n",
    "* Feature detector = kernel = filter\n",
    "* Feauture detector detects features like edges or convex shapes. Example, if out input is dog, feature detector can detect features like ear or tail of the dog.\n",
    "* feature map = conv(input image, feature detector). Element wise multiplication of matrices.\n",
    "* feature map = convolved feature\n",
    "* Stride = navigating in input image.\n",
    "* We reduce the size of image. This is important bc code runs faster. However, we lost information. \n",
    "* We create multiple feature maps bc we use multiple feature detectors(filters).\n",
    "* Lets look at gimp. Edge detect: [0,10,0],[10,-4,10],[0,10,0]\n",
    "* <a href=\"https://imgbb.com/\"><img src=\"https://image.ibb.co/m4FQC9/gec.jpg\" alt=\"gec\" border=\"0\"></a>\n",
    "* After having convolution layer we use ReLU to break up linearity. Increase nonlinearity. Because images are non linear.\n",
    "* <a href=\"https://ibb.co/mVZih9\"><img src=\"https://preview.ibb.co/gbcQvU/RELU.jpg\" alt=\"RELU\" border=\"0\"></a>"
   ]
  },
  {
   "cell_type": "markdown",
   "id": "aa20c186",
   "metadata": {
    "papermill": {
     "duration": 0.014584,
     "end_time": "2024-07-26T20:05:36.159069",
     "exception": false,
     "start_time": "2024-07-26T20:05:36.144485",
     "status": "completed"
    },
    "tags": []
   },
   "source": [
    "<a id=\"6\"></a>\n",
    "### Same Padding\n",
    "* As we keep applying conv layers, the size of the volume will decrease faster than we would like. In the early layers of our network, we want to preserve as much information about the original input volume so that we can extract those low level features.\n",
    "* input size and output size are same.\n",
    "* <a href=\"https://ibb.co/jUPkUp\"><img src=\"https://preview.ibb.co/noH5Up/padding.jpg\" alt=\"padding\" border=\"0\"></a>"
   ]
  },
  {
   "cell_type": "markdown",
   "id": "e027839a",
   "metadata": {
    "papermill": {
     "duration": 0.014429,
     "end_time": "2024-07-26T20:05:36.188577",
     "exception": false,
     "start_time": "2024-07-26T20:05:36.174148",
     "status": "completed"
    },
    "tags": []
   },
   "source": [
    "<a id=\"7\"></a>\n",
    "### Max Pooling\n",
    "* It makes down-sampling or sub-sampling (Reduces the number of parameters)\n",
    "* It makes the detection of features invariant to scale or orientation changes.\n",
    "* It reduce the amount of parameters and computation in the network, and hence to also control overfitting. \n",
    "* <a href=\"https://ibb.co/ckTjN9\"><img src=\"https://preview.ibb.co/gsNYFU/maxpool.jpg\" alt=\"maxpool\" border=\"0\"></a>"
   ]
  },
  {
   "cell_type": "markdown",
   "id": "d36686e7",
   "metadata": {
    "papermill": {
     "duration": 0.014097,
     "end_time": "2024-07-26T20:05:36.218080",
     "exception": false,
     "start_time": "2024-07-26T20:05:36.203983",
     "status": "completed"
    },
    "tags": []
   },
   "source": [
    "<a id=\"8\"></a>\n",
    "### Flattening\n",
    "* <a href=\"https://imgbb.com/\"><img src=\"https://image.ibb.co/c7eVvU/flattenigng.jpg\" alt=\"flattenigng\" border=\"0\"></a>"
   ]
  },
  {
   "cell_type": "markdown",
   "id": "e8e2dc20",
   "metadata": {
    "papermill": {
     "duration": 0.013988,
     "end_time": "2024-07-26T20:05:36.246415",
     "exception": false,
     "start_time": "2024-07-26T20:05:36.232427",
     "status": "completed"
    },
    "tags": []
   },
   "source": [
    "<a id=\"9\"></a>\n",
    "### Full Connection\n",
    "* Neurons in a fully connected layer have connections to all activations in the previous layer\n",
    "* Artificial Neural Network\n",
    "* <a href=\"https://ibb.co/hsS14p\"><img src=\"https://preview.ibb.co/evzsAU/fullyc.jpg\" alt=\"fullyc\" border=\"0\"></a>"
   ]
  },
  {
   "cell_type": "markdown",
   "id": "5e2b0d3c",
   "metadata": {
    "papermill": {
     "duration": 0.014347,
     "end_time": "2024-07-26T20:05:36.275623",
     "exception": false,
     "start_time": "2024-07-26T20:05:36.261276",
     "status": "completed"
    },
    "tags": []
   },
   "source": [
    "<a id=\"10\"></a>\n",
    "## Implementing with Keras"
   ]
  },
  {
   "cell_type": "markdown",
   "id": "5e0741fe",
   "metadata": {
    "papermill": {
     "duration": 0.014148,
     "end_time": "2024-07-26T20:05:36.304869",
     "exception": false,
     "start_time": "2024-07-26T20:05:36.290721",
     "status": "completed"
    },
    "tags": []
   },
   "source": [
    "<a id=\"11\"></a>\n",
    "### Create Model\n",
    "* conv => max pool => dropout => conv => max pool => dropout => fully connected (2 layer)\n",
    "* Dropout: Dropout is a technique where randomly selected neurons are ignored during training\n",
    "* <a href=\"https://ibb.co/jGcvVU\"><img src=\"https://preview.ibb.co/e7yPPp/dropout.jpg\" alt=\"dropout\" border=\"0\"></a>"
   ]
  },
  {
   "cell_type": "code",
   "execution_count": 14,
   "id": "bbcfd39a",
   "metadata": {
    "execution": {
     "iopub.execute_input": "2024-07-26T20:05:36.336094Z",
     "iopub.status.busy": "2024-07-26T20:05:36.335637Z",
     "iopub.status.idle": "2024-07-26T20:05:36.525290Z",
     "shell.execute_reply": "2024-07-26T20:05:36.524107Z"
    },
    "papermill": {
     "duration": 0.208831,
     "end_time": "2024-07-26T20:05:36.528166",
     "exception": false,
     "start_time": "2024-07-26T20:05:36.319335",
     "status": "completed"
    },
    "tags": []
   },
   "outputs": [],
   "source": [
    "from sklearn.metrics import confusion_matrix\n",
    "import itertools\n",
    "\n",
    "from tensorflow.keras.utils import to_categorical     # convert to one-hot-encoding\n",
    "from keras.models import Sequential \n",
    "from keras.layers import Dense, Dropout, Flatten, Conv2D, MaxPool2D\n",
    "from keras.optimizers import RMSprop,Adam\n",
    "from tensorflow.keras.preprocessing.image import ImageDataGenerator\n",
    "from keras.callbacks import ReduceLROnPlateau\n",
    "\n",
    "model = Sequential()\n",
    "#\n",
    "model.add(Conv2D(filters=8, kernel_size = (5,5), padding='Same', activation='relu', input_shape=(28,28,1)))\n",
    "model.add(MaxPool2D(pool_size=(2,2)))\n",
    "model.add(Dropout(0.25))\n",
    "#\n",
    "model.add(Conv2D(filters=16, kernel_size = (3,3), padding='Same', activation='relu'))\n",
    "model.add(MaxPool2D(pool_size=(2,2), strides=(2,2)))\n",
    "model.add(Dropout(0.25))\n",
    "# fully connetcted\n",
    "model.add(Flatten())\n",
    "model.add(Dense(256, activation=\"relu\"))\n",
    "model.add(Dropout(0.5))\n",
    "model.add(Dense(10, activation=\"softmax\"))"
   ]
  },
  {
   "cell_type": "markdown",
   "id": "3b07aa6b",
   "metadata": {
    "papermill": {
     "duration": 0.014921,
     "end_time": "2024-07-26T20:05:36.558201",
     "exception": false,
     "start_time": "2024-07-26T20:05:36.543280",
     "status": "completed"
    },
    "tags": []
   },
   "source": [
    "<a id=\"12\"></a>\n",
    "### Define Optimizer   \n",
    "* Adam optimizer: Change the learning rate\n"
   ]
  },
  {
   "cell_type": "code",
   "execution_count": 15,
   "id": "8511ec5e",
   "metadata": {
    "execution": {
     "iopub.execute_input": "2024-07-26T20:05:36.589717Z",
     "iopub.status.busy": "2024-07-26T20:05:36.589259Z",
     "iopub.status.idle": "2024-07-26T20:05:36.603606Z",
     "shell.execute_reply": "2024-07-26T20:05:36.602297Z"
    },
    "papermill": {
     "duration": 0.033447,
     "end_time": "2024-07-26T20:05:36.606525",
     "exception": false,
     "start_time": "2024-07-26T20:05:36.573078",
     "status": "completed"
    },
    "tags": []
   },
   "outputs": [],
   "source": [
    "# Define the optimizer\n",
    "optimizer = Adam(learning_rate=0.001, beta_1=0.9, beta_2=0.999)"
   ]
  },
  {
   "cell_type": "markdown",
   "id": "3253575c",
   "metadata": {
    "papermill": {
     "duration": 0.013873,
     "end_time": "2024-07-26T20:05:36.635441",
     "exception": false,
     "start_time": "2024-07-26T20:05:36.621568",
     "status": "completed"
    },
    "tags": []
   },
   "source": [
    "<a id=\"13\"></a>\n",
    "### Compile Model\n",
    "* categorical crossentropy\n",
    "* We make binary cross entropy at previous parts and in machine learning tutorial\n",
    "* At this time we use categorical crossentropy. That means that we have multi class.\n",
    "* <a href=\"https://ibb.co/jm1bpp\"><img src=\"https://preview.ibb.co/nN3ZaU/cce.jpg\" alt=\"cce\" border=\"0\"></a>\n"
   ]
  },
  {
   "cell_type": "code",
   "execution_count": 16,
   "id": "dda96ddd",
   "metadata": {
    "execution": {
     "iopub.execute_input": "2024-07-26T20:05:36.668094Z",
     "iopub.status.busy": "2024-07-26T20:05:36.667666Z",
     "iopub.status.idle": "2024-07-26T20:05:36.678582Z",
     "shell.execute_reply": "2024-07-26T20:05:36.677346Z"
    },
    "papermill": {
     "duration": 0.029562,
     "end_time": "2024-07-26T20:05:36.681420",
     "exception": false,
     "start_time": "2024-07-26T20:05:36.651858",
     "status": "completed"
    },
    "tags": []
   },
   "outputs": [],
   "source": [
    "# Compile the model\n",
    "model.compile(optimizer = optimizer , loss = \"categorical_crossentropy\", metrics=[\"accuracy\"])"
   ]
  },
  {
   "cell_type": "markdown",
   "id": "4887a64b",
   "metadata": {
    "papermill": {
     "duration": 0.014182,
     "end_time": "2024-07-26T20:05:36.710128",
     "exception": false,
     "start_time": "2024-07-26T20:05:36.695946",
     "status": "completed"
    },
    "tags": []
   },
   "source": [
    "<a id=\"14\"></a>\n",
    "### Epochs and Batch Size\n",
    "* Say you have a dataset of 10 examples (or samples). You have a **batch size** of 2, and you've specified you want the algorithm to run for 3 **epochs**. Therefore, in each epoch, you have 5 **batches** (10/2 = 5). Each batch gets passed through the algorithm, therefore you have 5 iterations **per epoch**.\n",
    "* reference: https://stackoverflow.com/questions/4752626/epoch-vs-iteration-when-training-neural-networks"
   ]
  },
  {
   "cell_type": "code",
   "execution_count": 17,
   "id": "bd4e4a1c",
   "metadata": {
    "execution": {
     "iopub.execute_input": "2024-07-26T20:05:36.741558Z",
     "iopub.status.busy": "2024-07-26T20:05:36.741113Z",
     "iopub.status.idle": "2024-07-26T20:05:36.746578Z",
     "shell.execute_reply": "2024-07-26T20:05:36.745334Z"
    },
    "papermill": {
     "duration": 0.024558,
     "end_time": "2024-07-26T20:05:36.749312",
     "exception": false,
     "start_time": "2024-07-26T20:05:36.724754",
     "status": "completed"
    },
    "tags": []
   },
   "outputs": [],
   "source": [
    "epochs = 10    # for better result increase the epochs\n",
    "batch_size = 250"
   ]
  },
  {
   "cell_type": "markdown",
   "id": "c4701f3f",
   "metadata": {
    "papermill": {
     "duration": 0.014615,
     "end_time": "2024-07-26T20:05:36.778443",
     "exception": false,
     "start_time": "2024-07-26T20:05:36.763828",
     "status": "completed"
    },
    "tags": []
   },
   "source": [
    "<a id=\"15\"></a>\n",
    "### Data Augmentation\n",
    "* To avoid overfitting problem, we need to expand artificially our handwritten digit dataset\n",
    "* Alter the training data with small transformations to reproduce the variations of digit.\n",
    "* For example, the number is not centered The scale is not the same (some who write with big/small numbers) The image is rotated.\n",
    "* <a href=\"https://ibb.co/k24CUp\"><img src=\"https://preview.ibb.co/nMxXUp/augment.jpg\" alt=\"augment\" border=\"0\"></a>"
   ]
  },
  {
   "cell_type": "code",
   "execution_count": 18,
   "id": "b5f8d9f0",
   "metadata": {
    "execution": {
     "iopub.execute_input": "2024-07-26T20:05:36.809616Z",
     "iopub.status.busy": "2024-07-26T20:05:36.809176Z",
     "iopub.status.idle": "2024-07-26T20:05:36.914910Z",
     "shell.execute_reply": "2024-07-26T20:05:36.913777Z"
    },
    "papermill": {
     "duration": 0.124484,
     "end_time": "2024-07-26T20:05:36.917713",
     "exception": false,
     "start_time": "2024-07-26T20:05:36.793229",
     "status": "completed"
    },
    "tags": []
   },
   "outputs": [],
   "source": [
    "# data augmentation\n",
    "datagen = ImageDataGenerator(\n",
    "        featurewise_center=False,  # set input mean to 0 over the dataset\n",
    "        samplewise_center=False,  # set each sample mean to 0\n",
    "        featurewise_std_normalization=False,  # divide inputs by std of the dataset\n",
    "        samplewise_std_normalization=False,  # divide each input by its std\n",
    "        zca_whitening=False,  # dimesion reduction\n",
    "        rotation_range=5,  # randomly rotate images in the range 5 degrees\n",
    "        zoom_range = 0.1, # Randomly zoom image 10%\n",
    "        width_shift_range=0.1,  # randomly shift images horizontally 10%\n",
    "        height_shift_range=0.1,  # randomly shift images vertically 10%\n",
    "        horizontal_flip=False,  # randomly flip images\n",
    "        vertical_flip=False)  # randomly flip images\n",
    "\n",
    "datagen.fit(X_train)"
   ]
  },
  {
   "cell_type": "markdown",
   "id": "b8cc6655",
   "metadata": {
    "papermill": {
     "duration": 0.013926,
     "end_time": "2024-07-26T20:05:36.946308",
     "exception": false,
     "start_time": "2024-07-26T20:05:36.932382",
     "status": "completed"
    },
    "tags": []
   },
   "source": [
    "<a id=\"16\"></a>\n",
    "### Fit the model"
   ]
  },
  {
   "cell_type": "code",
   "execution_count": 19,
   "id": "1af02fd2",
   "metadata": {
    "execution": {
     "iopub.execute_input": "2024-07-26T20:05:36.977931Z",
     "iopub.status.busy": "2024-07-26T20:05:36.977507Z",
     "iopub.status.idle": "2024-07-26T20:07:23.378883Z",
     "shell.execute_reply": "2024-07-26T20:07:23.377563Z"
    },
    "papermill": {
     "duration": 106.420823,
     "end_time": "2024-07-26T20:07:23.382037",
     "exception": false,
     "start_time": "2024-07-26T20:05:36.961214",
     "status": "completed"
    },
    "tags": []
   },
   "outputs": [
    {
     "name": "stdout",
     "output_type": "stream",
     "text": [
      "Epoch 1/10\n",
      "\u001b[1m151/151\u001b[0m \u001b[32m━━━━━━━━━━━━━━━━━━━━\u001b[0m\u001b[37m\u001b[0m \u001b[1m22s\u001b[0m 129ms/step - accuracy: 0.4720 - loss: 1.5423 - val_accuracy: 0.9395 - val_loss: 0.2114\n",
      "Epoch 2/10\n",
      "\u001b[1m151/151\u001b[0m \u001b[32m━━━━━━━━━━━━━━━━━━━━\u001b[0m\u001b[37m\u001b[0m \u001b[1m1s\u001b[0m 6ms/step - accuracy: 0.8040 - loss: 0.5340 - val_accuracy: 0.9395 - val_loss: 0.2106\n",
      "Epoch 3/10\n",
      "\u001b[1m151/151\u001b[0m \u001b[32m━━━━━━━━━━━━━━━━━━━━\u001b[0m\u001b[37m\u001b[0m \u001b[1m20s\u001b[0m 128ms/step - accuracy: 0.8485 - loss: 0.4759 - val_accuracy: 0.9588 - val_loss: 0.1405\n",
      "Epoch 4/10\n",
      "\u001b[1m151/151\u001b[0m \u001b[32m━━━━━━━━━━━━━━━━━━━━\u001b[0m\u001b[37m\u001b[0m \u001b[1m1s\u001b[0m 6ms/step - accuracy: 0.8840 - loss: 0.3793 - val_accuracy: 0.9590 - val_loss: 0.1421\n",
      "Epoch 5/10\n",
      "\u001b[1m151/151\u001b[0m \u001b[32m━━━━━━━━━━━━━━━━━━━━\u001b[0m\u001b[37m\u001b[0m \u001b[1m20s\u001b[0m 126ms/step - accuracy: 0.8915 - loss: 0.3399 - val_accuracy: 0.9667 - val_loss: 0.1153\n",
      "Epoch 6/10\n",
      "\u001b[1m151/151\u001b[0m \u001b[32m━━━━━━━━━━━━━━━━━━━━\u001b[0m\u001b[37m\u001b[0m \u001b[1m1s\u001b[0m 6ms/step - accuracy: 0.9400 - loss: 0.2037 - val_accuracy: 0.9664 - val_loss: 0.1159\n",
      "Epoch 7/10\n",
      "\u001b[1m151/151\u001b[0m \u001b[32m━━━━━━━━━━━━━━━━━━━━\u001b[0m\u001b[37m\u001b[0m \u001b[1m20s\u001b[0m 128ms/step - accuracy: 0.9118 - loss: 0.2804 - val_accuracy: 0.9695 - val_loss: 0.0948\n",
      "Epoch 8/10\n",
      "\u001b[1m151/151\u001b[0m \u001b[32m━━━━━━━━━━━━━━━━━━━━\u001b[0m\u001b[37m\u001b[0m \u001b[1m1s\u001b[0m 5ms/step - accuracy: 0.9320 - loss: 0.2047 - val_accuracy: 0.9693 - val_loss: 0.0947\n",
      "Epoch 9/10\n",
      "\u001b[1m151/151\u001b[0m \u001b[32m━━━━━━━━━━━━━━━━━━━━\u001b[0m\u001b[37m\u001b[0m \u001b[1m20s\u001b[0m 128ms/step - accuracy: 0.9227 - loss: 0.2550 - val_accuracy: 0.9736 - val_loss: 0.0893\n",
      "Epoch 10/10\n",
      "\u001b[1m151/151\u001b[0m \u001b[32m━━━━━━━━━━━━━━━━━━━━\u001b[0m\u001b[37m\u001b[0m \u001b[1m1s\u001b[0m 6ms/step - accuracy: 0.9520 - loss: 0.1558 - val_accuracy: 0.9729 - val_loss: 0.0909\n"
     ]
    }
   ],
   "source": [
    "# Fit the model \n",
    "history = model.fit(datagen.flow(X_train,Y_train,batch_size=batch_size),\n",
    "                              epochs = epochs, validation_data = (X_val,Y_val), steps_per_epoch=X_train.shape[0] // batch_size)"
   ]
  },
  {
   "cell_type": "markdown",
   "id": "d4d4d419",
   "metadata": {
    "papermill": {
     "duration": 0.089206,
     "end_time": "2024-07-26T20:07:23.562755",
     "exception": false,
     "start_time": "2024-07-26T20:07:23.473549",
     "status": "completed"
    },
    "tags": []
   },
   "source": [
    "<a id=\"17\"></a>\n",
    "### Evaluate the model\n",
    "* Test Loss visualization\n",
    "* Confusion matrix\n"
   ]
  },
  {
   "cell_type": "code",
   "execution_count": 20,
   "id": "b4635c88",
   "metadata": {
    "execution": {
     "iopub.execute_input": "2024-07-26T20:07:23.742230Z",
     "iopub.status.busy": "2024-07-26T20:07:23.741766Z",
     "iopub.status.idle": "2024-07-26T20:07:24.053496Z",
     "shell.execute_reply": "2024-07-26T20:07:24.052177Z"
    },
    "papermill": {
     "duration": 0.403884,
     "end_time": "2024-07-26T20:07:24.056163",
     "exception": false,
     "start_time": "2024-07-26T20:07:23.652279",
     "status": "completed"
    },
    "tags": []
   },
   "outputs": [
    {
     "data": {
      "image/png": "[encoded data removed]",
      "text/plain": [
       "<Figure size 640x480 with 1 Axes>"
      ]
     },
     "metadata": {},
     "output_type": "display_data"
    }
   ],
   "source": [
    "# Plot the loss and accuracy curves for training and validation\n",
    "plt.plot(history.history['val_loss'], color='b', label=\"validation loss\")\n",
    "plt.title(\"Test Loss\")\n",
    "plt.xlabel(\"Number of Epochs\")\n",
    "plt.ylabel(\"Loss\")\n",
    "plt.legend()\n",
    "plt.show()"
   ]
  },
  {
   "cell_type": "code",
   "execution_count": 21,
   "id": "41751af2",
   "metadata": {
    "execution": {
     "iopub.execute_input": "2024-07-26T20:07:24.241416Z",
     "iopub.status.busy": "2024-07-26T20:07:24.240950Z",
     "iopub.status.idle": "2024-07-26T20:07:26.299082Z",
     "shell.execute_reply": "2024-07-26T20:07:26.297796Z"
    },
    "papermill": {
     "duration": 2.155577,
     "end_time": "2024-07-26T20:07:26.302720",
     "exception": false,
     "start_time": "2024-07-26T20:07:24.147143",
     "status": "completed"
    },
    "tags": []
   },
   "outputs": [
    {
     "name": "stdout",
     "output_type": "stream",
     "text": [
      "\u001b[1m132/132\u001b[0m \u001b[32m━━━━━━━━━━━━━━━━━━━━\u001b[0m\u001b[37m\u001b[0m \u001b[1m1s\u001b[0m 7ms/step\n"
     ]
    },
    {
     "data": {
      "image/png": "[encoded data removed]",
      "text/plain": [
       "<Figure size 800x800 with 2 Axes>"
      ]
     },
     "metadata": {},
     "output_type": "display_data"
    }
   ],
   "source": [
    "# confusion matrix\n",
    "import seaborn as sns\n",
    "# Predict the values from the validation dataset\n",
    "Y_pred = model.predict(X_val)\n",
    "# Convert predictions classes to one hot vectors \n",
    "Y_pred_classes = np.argmax(Y_pred,axis = 1) \n",
    "# Convert validation observations to one hot vectors\n",
    "Y_true = np.argmax(Y_val,axis = 1) \n",
    "# compute the confusion matrix\n",
    "confusion_mtx = confusion_matrix(Y_true, Y_pred_classes) \n",
    "# plot the confusion matrix\n",
    "f,ax = plt.subplots(figsize=(8, 8))\n",
    "sns.heatmap(confusion_mtx, annot=True, linewidths=0.01,cmap=\"Greens\",linecolor=\"gray\", fmt= '.1f',ax=ax)\n",
    "plt.xlabel(\"Predicted Label\")\n",
    "plt.ylabel(\"True Label\")\n",
    "plt.title(\"Confusion Matrix\")\n",
    "plt.show()"
   ]
  },
  {
   "cell_type": "markdown",
   "id": "cb963873",
   "metadata": {
    "papermill": {
     "duration": 0.092204,
     "end_time": "2024-07-26T20:07:26.487493",
     "exception": false,
     "start_time": "2024-07-26T20:07:26.395289",
     "status": "completed"
    },
    "tags": []
   },
   "source": [
    "<a id=\"18\"></a>\n",
    "## Conclusion\n",
    "* If you have any question I will be very happy to hear it."
   ]
  }
 ],
 "metadata": {
  "kaggle": {
   "accelerator": "none",
   "dataSources": [
    {
     "databundleVersionId": 861823,
     "sourceId": 3004,
     "sourceType": "competition"
    }
   ],
   "dockerImageVersionId": 30746,
   "isGpuEnabled": false,
   "isInternetEnabled": true,
   "language": "python",
   "sourceType": "notebook"
  },
  "kernelspec": {
   "display_name": "Python 3",
   "language": "python",
   "name": "python3"
  },
  "language_info": {
   "codemirror_mode": {
    "name": "ipython",
    "version": 3
   },
   "file_extension": ".py",
   "mimetype": "text/x-python",
   "name": "python",
   "nbconvert_exporter": "python",
   "pygments_lexer": "ipython3",
   "version": "3.10.13"
  },
  "papermill": {
   "default_parameters": {},
   "duration": 143.340337,
   "end_time": "2024-07-26T20:07:28.919317",
   "environment_variables": {},
   "exception": null,
   "input_path": "__notebook__.ipynb",
   "output_path": "__notebook__.ipynb",
   "parameters": {},
   "start_time": "2024-07-26T20:05:05.578980",
   "version": "2.5.0"
  }
 },
 "nbformat": 4,
 "nbformat_minor": 5
}
